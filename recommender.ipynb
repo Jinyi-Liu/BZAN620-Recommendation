{
 "cells": [
  {
   "cell_type": "code",
   "execution_count": 1,
   "id": "facfbab0-0a93-4c6e-88a8-171fec225077",
   "metadata": {},
   "outputs": [],
   "source": [
    "import pandas as pd\n",
    "import numpy as np\n",
    "from scipy.sparse import coo_matrix\n",
    "from scipy.sparse import linalg \n",
    "from scipy.sparse import hstack\n",
    "from sklearn.metrics import confusion_matrix\n"
   ]
  },
  {
   "cell_type": "markdown",
   "id": "e44f6976-510a-4892-a368-6a19e7cd732d",
   "metadata": {},
   "source": [
    "## To do list\n",
    "1. Load data.\n",
    "2. Create the user-item interaction matrix $R$ using implicit feedback signals."
   ]
  },
  {
   "cell_type": "code",
   "execution_count": 11,
   "id": "29b8b12d-44b4-4c40-966c-eb97b4bcb2ad",
   "metadata": {},
   "outputs": [],
   "source": [
    "def parse_date(data):\n",
    "    data['time'] = pd.to_datetime(data['time'], unit='s')\n",
    "    return data\n",
    "\n",
    "\n",
    "def read_data(path='', start_time='', end_time=''):\n",
    "    _have = parse_date(pd.read_csv(path + '/' + 'have.csv', header=None, names=['user', 'item', 'time']))\n",
    "    _wish = parse_date(pd.read_csv(path + '/' + 'wish.csv', header=None, names=['user', 'item', 'time']))\n",
    "    _transact = parse_date(pd.read_csv(path + '/' + 'transac.csv', header=None, names=['giver', 'receiver', 'item', 'time']))\n",
    "    \n",
    "    pairs = pd.read_csv(path + '/' + 'pairs.csv', header=None, names=['user1', 'item1', 'user2', 'item2'])\n",
    "    have = _have.loc[(start_time<_have['time'])&(_have['time']< end_time)]\n",
    "    wish = _wish.loc[(start_time<_wish['time'])&(_wish['time']< end_time)]\n",
    "    transact = _transact.loc[(start_time<_transact['time'])&(_transact['time']< end_time)]\n",
    "    return have.sort_values(by=['user', 'time']).reset_index(drop=True), pairs, transact.sort_values(\n",
    "        by=['time']).reset_index(drop=True), wish.sort_values(by=['user', 'time']).reset_index(drop=True)\n",
    "\n",
    "def user_data(user, _have, _wish, _transact):\n",
    "    # Return have and wish list for user.\n",
    "    return _have.loc[_have['user'] == user], _wish.loc[_wish['user'] == user], _transact.loc[\n",
    "        _transact['receiver'] == user]\n",
    "\n",
    "\n",
    "def get_unique_users(_have, _transact, _wish):\n",
    "    temp = np.concatenate \\\n",
    "        ((_have['user'].unique(), _transact['giver'].unique(), _transact['receiver'].unique(), _wish['user'].unique()))\n",
    "    return np.unique(temp)\n",
    "\n",
    "\n",
    "def get_unique_products(_have, _transact, _wish):\n",
    "    temp = np.concatenate \\\n",
    "        ((_have['item'].unique(), _transact['item'].unique(), _wish['item'].unique()))\n",
    "    return np.unique(temp)\n",
    "\n",
    "\n",
    "def get_user_wish(user, _wish):\n",
    "    return _wish.loc[_wish['user'] == user]['item'].values\n",
    "\n",
    "\n",
    "def get_user_receive(user, _transact):\n",
    "    return _transact.loc[_transact['receiver'] == user]['item'].values\n",
    "\n",
    "\n",
    "def get_max_products_len(_wish, _transact):\n",
    "    a = _wish.groupby('user')['item'].count().max()\n",
    "    b = _transact.groupby('receiver')['item'].count().max()\n",
    "    return max(a, b)\n",
    "\n",
    "\n",
    "def get_coordinates(users_dict, products_dict, _data):\n",
    "    row = np.array([])\n",
    "    col = np.array([])\n",
    "\n",
    "    if len(_data) != 0:\n",
    "        if 'receiver' in _data.columns.values:\n",
    "            _data = _data[['receiver', 'item']].values\n",
    "        else:\n",
    "            _data = _data[['user', 'item']].values\n",
    "        row = np.array(list(map(users_dict.get, _data[:, 0])))\n",
    "        col = np.array(list(map(products_dict.get, _data[:, 1])))\n",
    "\n",
    "    return row, col\n",
    "\n",
    "\n",
    "def gen_interaction_matrix(_data, _users_dict, _products_dict):\n",
    "    \"\"\"\n",
    "    Create the user-item interaction matrix R.\n",
    "    To create a sparse matrix.\n",
    "    \"\"\"\n",
    "    _row, _col = get_coordinates(_users_dict, _products_dict, _data)\n",
    "    return coo_matrix((np.ones(len(_row)), (_row, _col)), shape=(len(_users_dict), len(_products_dict)))\n",
    "\n",
    "\n",
    "\n",
    "def slice_learning(_tensor, _rank, _users_dict, _products_dict):\n",
    "    X = [gen_interaction_matrix(_dataset, _users_dict, _products_dict) for _dataset in _tensor]\n",
    "    X1 = hstack(X)\n",
    "    X2 = hstack([_slice.transpose() for _slice in X])\n",
    "    U, temp_S, temp_V = linalg.svds(X1, k=_rank)\n",
    "    temp_U, temp, V = linalg.svds(X2, k=_rank)\n",
    "    M_tensor = [U @ U.transpose() @ _slice @ V @ V.transpose() for _slice in X]\n",
    "    return M_tensor"
   ]
  },
  {
   "cell_type": "code",
   "execution_count": 10,
   "id": "1bf94937-31ef-47c2-ba10-2f29c7036e55",
   "metadata": {},
   "outputs": [
    {
     "data": {
      "text/html": [
       "<div>\n",
       "<style scoped>\n",
       "    .dataframe tbody tr th:only-of-type {\n",
       "        vertical-align: middle;\n",
       "    }\n",
       "\n",
       "    .dataframe tbody tr th {\n",
       "        vertical-align: top;\n",
       "    }\n",
       "\n",
       "    .dataframe thead th {\n",
       "        text-align: right;\n",
       "    }\n",
       "</style>\n",
       "<table border=\"1\" class=\"dataframe\">\n",
       "  <thead>\n",
       "    <tr style=\"text-align: right;\">\n",
       "      <th></th>\n",
       "      <th>user</th>\n",
       "      <th>item</th>\n",
       "      <th>time</th>\n",
       "    </tr>\n",
       "  </thead>\n",
       "  <tbody>\n",
       "    <tr>\n",
       "      <th>0</th>\n",
       "      <td>304</td>\n",
       "      <td>1885497</td>\n",
       "      <td>2014-09-05 11:51:27</td>\n",
       "    </tr>\n",
       "    <tr>\n",
       "      <th>1</th>\n",
       "      <td>304</td>\n",
       "      <td>1885510</td>\n",
       "      <td>2014-09-05 12:09:46</td>\n",
       "    </tr>\n",
       "    <tr>\n",
       "      <th>2</th>\n",
       "      <td>304</td>\n",
       "      <td>1885502</td>\n",
       "      <td>2014-09-05 12:21:11</td>\n",
       "    </tr>\n",
       "    <tr>\n",
       "      <th>7</th>\n",
       "      <td>665</td>\n",
       "      <td>1886858</td>\n",
       "      <td>2014-09-07 10:54:11</td>\n",
       "    </tr>\n",
       "    <tr>\n",
       "      <th>13</th>\n",
       "      <td>1539</td>\n",
       "      <td>1261301</td>\n",
       "      <td>2014-09-05 01:30:25</td>\n",
       "    </tr>\n",
       "    <tr>\n",
       "      <th>...</th>\n",
       "      <td>...</td>\n",
       "      <td>...</td>\n",
       "      <td>...</td>\n",
       "    </tr>\n",
       "    <tr>\n",
       "      <th>2210</th>\n",
       "      <td>84827</td>\n",
       "      <td>2006670</td>\n",
       "      <td>2014-09-06 08:09:31</td>\n",
       "    </tr>\n",
       "    <tr>\n",
       "      <th>2211</th>\n",
       "      <td>84827</td>\n",
       "      <td>2006673</td>\n",
       "      <td>2014-09-06 08:33:44</td>\n",
       "    </tr>\n",
       "    <tr>\n",
       "      <th>2212</th>\n",
       "      <td>84827</td>\n",
       "      <td>2006674</td>\n",
       "      <td>2014-09-06 09:32:28</td>\n",
       "    </tr>\n",
       "    <tr>\n",
       "      <th>2213</th>\n",
       "      <td>84827</td>\n",
       "      <td>2006672</td>\n",
       "      <td>2014-09-06 09:51:36</td>\n",
       "    </tr>\n",
       "    <tr>\n",
       "      <th>2214</th>\n",
       "      <td>84827</td>\n",
       "      <td>252448</td>\n",
       "      <td>2014-09-06 09:55:33</td>\n",
       "    </tr>\n",
       "  </tbody>\n",
       "</table>\n",
       "<p>460 rows × 3 columns</p>\n",
       "</div>"
      ],
      "text/plain": [
       "       user     item                time\n",
       "0       304  1885497 2014-09-05 11:51:27\n",
       "1       304  1885510 2014-09-05 12:09:46\n",
       "2       304  1885502 2014-09-05 12:21:11\n",
       "7       665  1886858 2014-09-07 10:54:11\n",
       "13     1539  1261301 2014-09-05 01:30:25\n",
       "...     ...      ...                 ...\n",
       "2210  84827  2006670 2014-09-06 08:09:31\n",
       "2211  84827  2006673 2014-09-06 08:33:44\n",
       "2212  84827  2006674 2014-09-06 09:32:28\n",
       "2213  84827  2006672 2014-09-06 09:51:36\n",
       "2214  84827   252448 2014-09-06 09:55:33\n",
       "\n",
       "[460 rows x 3 columns]"
      ]
     },
     "execution_count": 10,
     "metadata": {},
     "output_type": "execute_result"
    }
   ],
   "source": [
    "have.loc[('2014-09-05'<have['time'])&(have['time']<'2014-09-08')]"
   ]
  },
  {
   "cell_type": "code",
   "execution_count": 12,
   "id": "b7ed2d6c-9a70-48b0-a8cb-3f06502f7f44",
   "metadata": {},
   "outputs": [],
   "source": [
    "have, pairs, transact, wish = read_data('./bm1y', '2014-09-03','2014-9-15')\n",
    "\n",
    "# temp = (wish_.groupby('user').count()['item']<3000)\n",
    "# limit_index = temp.loc[temp==True].index\n",
    "# wish = wish_.loc[np.isin(wish_['user'],limit_index)]\n",
    "\n",
    "users = get_unique_users(have, transact, wish)\n",
    "products = get_unique_products(have, transact, wish)\n",
    "\n",
    "users_dict = {}\n",
    "for index,value in zip(range(len(users)),users):\n",
    "    users_dict[value]=index\n",
    "\n",
    "products_dict = {}\n",
    "for index,value in zip(range(len(products)),products):\n",
    "    products_dict[value]=index"
   ]
  },
  {
   "cell_type": "markdown",
   "id": "3d32c0cf",
   "metadata": {},
   "source": [
    "# Data process"
   ]
  },
  {
   "cell_type": "code",
   "execution_count": 9,
   "id": "1ee87b40-4b82-4675-a18f-135f471641cc",
   "metadata": {},
   "outputs": [],
   "source": [
    "X = [gen_interaction_matrix(data,users_dict, products_dict) for data in [wish,have]]\n",
    "X1 = hstack(X)\n",
    "X2 = hstack([_slice.transpose() for _slice in X])"
   ]
  },
  {
   "cell_type": "code",
   "execution_count": 10,
   "id": "98b3deb4-b777-4796-ae10-54889cae16ea",
   "metadata": {},
   "outputs": [
    {
     "ename": "KeyboardInterrupt",
     "evalue": "",
     "output_type": "error",
     "traceback": [
      "\u001b[0;31m---------------------------------------------------------------------------\u001b[0m",
      "\u001b[0;31mKeyboardInterrupt\u001b[0m                         Traceback (most recent call last)",
      "\u001b[0;32m/tmp/ipykernel_1422/3619961769.py\u001b[0m in \u001b[0;36m<module>\u001b[0;34m\u001b[0m\n\u001b[1;32m      2\u001b[0m \u001b[0mU2\u001b[0m\u001b[0;34m,\u001b[0m \u001b[0mS2\u001b[0m\u001b[0;34m,\u001b[0m \u001b[0mV2\u001b[0m \u001b[0;34m=\u001b[0m \u001b[0mlinalg\u001b[0m\u001b[0;34m.\u001b[0m\u001b[0msvds\u001b[0m\u001b[0;34m(\u001b[0m\u001b[0mX2\u001b[0m\u001b[0;34m,\u001b[0m \u001b[0mk\u001b[0m\u001b[0;34m=\u001b[0m\u001b[0;36m3\u001b[0m\u001b[0;34m)\u001b[0m\u001b[0;34m\u001b[0m\u001b[0;34m\u001b[0m\u001b[0m\n\u001b[1;32m      3\u001b[0m \u001b[0mP_users\u001b[0m \u001b[0;34m=\u001b[0m \u001b[0mU1\u001b[0m \u001b[0;34m@\u001b[0m \u001b[0mU1\u001b[0m\u001b[0;34m.\u001b[0m\u001b[0mtranspose\u001b[0m\u001b[0;34m(\u001b[0m\u001b[0;34m)\u001b[0m\u001b[0;34m\u001b[0m\u001b[0;34m\u001b[0m\u001b[0m\n\u001b[0;32m----> 4\u001b[0;31m \u001b[0mP_products\u001b[0m \u001b[0;34m=\u001b[0m \u001b[0mU2\u001b[0m \u001b[0;34m@\u001b[0m \u001b[0mU2\u001b[0m\u001b[0;34m.\u001b[0m\u001b[0mtranspose\u001b[0m\u001b[0;34m(\u001b[0m\u001b[0;34m)\u001b[0m\u001b[0;34m\u001b[0m\u001b[0;34m\u001b[0m\u001b[0m\n\u001b[0m",
      "\u001b[0;31mKeyboardInterrupt\u001b[0m: "
     ]
    }
   ],
   "source": [
    "U1, S1, V1 = linalg.svds(X1, k=3)\n",
    "U2, S2, V2 = linalg.svds(X2, k=3)\n",
    "P_users = U1 @ U1.transpose()\n",
    "P_products = U2 @ U2.transpose()"
   ]
  },
  {
   "cell_type": "code",
   "execution_count": 36,
   "id": "1eb7185a-5447-49e0-92ef-f03efca2e087",
   "metadata": {},
   "outputs": [],
   "source": [
    "A = np.random.random((4,4))\n",
    "B = np.random.random((4,4))"
   ]
  },
  {
   "cell_type": "code",
   "execution_count": 37,
   "id": "a3262c5d-589a-42d2-b799-f1364fbe7d06",
   "metadata": {},
   "outputs": [
    {
     "data": {
      "text/plain": [
       "array([[0.86207057, 0.91290554, 0.46606913, 0.82574448],\n",
       "       [0.15368381, 0.63691059, 0.3428837 , 0.31176107],\n",
       "       [0.03896312, 0.42669025, 0.50771547, 0.15118214],\n",
       "       [0.16743321, 0.703061  , 0.00847324, 0.64017121]])"
      ]
     },
     "execution_count": 37,
     "metadata": {},
     "output_type": "execute_result"
    }
   ],
   "source": [
    "A"
   ]
  },
  {
   "cell_type": "code",
   "execution_count": 39,
   "id": "75abae17-729a-4dbc-956c-48a815143707",
   "metadata": {},
   "outputs": [
    {
     "data": {
      "text/plain": [
       "array([[1, 1, 0, 1],\n",
       "       [0, 1, 0, 0],\n",
       "       [0, 0, 1, 0],\n",
       "       [0, 1, 0, 1]])"
      ]
     },
     "execution_count": 39,
     "metadata": {},
     "output_type": "execute_result"
    }
   ],
   "source": [
    "np.where(A>0.5,1,0)"
   ]
  },
  {
   "cell_type": "code",
   "execution_count": 41,
   "id": "b6fe7f42-b087-4afd-9cab-445da8525034",
   "metadata": {},
   "outputs": [
    {
     "data": {
      "text/plain": [
       "array([3, 6, 3, 4])"
      ]
     },
     "execution_count": 41,
     "metadata": {},
     "output_type": "execute_result"
    }
   ],
   "source": [
    "confusion_matrix(np.where(A>0.5,1,0).flatten(),np.where(B>0.5,1,0).flatten()).ravel()"
   ]
  },
  {
   "cell_type": "code",
   "execution_count": null,
   "id": "3fb5ad22-6863-40bf-ac78-5e3058c151e5",
   "metadata": {},
   "outputs": [],
   "source": [
    "M = P_users @ X[0] @ P_products"
   ]
  },
  {
   "cell_type": "code",
   "execution_count": 11,
   "id": "66ab7db4-835b-4f56-911d-ac89468ba797",
   "metadata": {},
   "outputs": [
    {
     "name": "stdout",
     "output_type": "stream",
     "text": [
      "(4037, 3) (3, 42322)\n",
      "(21161, 3) (3, 8074)\n",
      "(4037, 4037)\n",
      "(42429, 42429)\n"
     ]
    }
   ],
   "source": [
    "print(U1.shape,V1.shape)\n",
    "print(U2.shape,V2.shape)\n",
    "print(P_users.shape)\n",
    "print(P_products.shape)"
   ]
  },
  {
   "cell_type": "markdown",
   "id": "158b5061-a5dc-4343-9915-f66d858e3fe4",
   "metadata": {},
   "source": [
    "# Plot"
   ]
  },
  {
   "cell_type": "code",
   "execution_count": 13,
   "id": "977926a3-7804-4841-9db5-55d37f53ea48",
   "metadata": {},
   "outputs": [],
   "source": [
    "import matplotlib.pyplot as plt\n",
    "import seaborn as sns"
   ]
  },
  {
   "cell_type": "markdown",
   "id": "cadc5784-07ec-49d3-a9cb-5d31646133e1",
   "metadata": {},
   "source": [
    "## Daily trading volume."
   ]
  },
  {
   "cell_type": "code",
   "execution_count": null,
   "id": "b9b3aa08-bc68-4aa3-a96d-fd08ad7c8b89",
   "metadata": {},
   "outputs": [],
   "source": [
    "day_trade = transac.groupby(transac['time'].dt.date).count()['time']\n",
    "ax = sns.kdeplot(day_trade,bw_adjust=1,cut=0,cumulative=False)\n",
    "ax.set(xlabel='times')\n",
    "# ax.get_figure().savefig('trade PDF.png')\n",
    "plt.show()"
   ]
  },
  {
   "cell_type": "code",
   "execution_count": 16,
   "id": "8890eaf0-340a-42c6-bcf6-6b97b49dc60f",
   "metadata": {},
   "outputs": [
    {
     "data": {
      "text/plain": [
       "Text(0, 0.5, 'Trading Volume')"
      ]
     },
     "execution_count": 16,
     "metadata": {},
     "output_type": "execute_result"
    },
    {
     "data": {
      "image/png": "[encoded data removed]",
      "text/plain": [
       "<Figure size 640x480 with 1 Axes>"
      ]
     },
     "metadata": {},
     "output_type": "display_data"
    }
   ],
   "source": [
    "fig = plt.figure()\n",
    "ax = fig.add_subplot(1, 1, 1)\n",
    "ax.plot(day_trade)\n",
    "ax.set_xlabel('Date')\n",
    "ax.set_ylabel('Trading Volume')\n",
    "# fig.savefig('trading.png',dpi=200)"
   ]
  },
  {
   "cell_type": "code",
   "execution_count": 17,
   "id": "f3a05f25-43fa-4d4d-9baf-493d0ff4298e",
   "metadata": {},
   "outputs": [
    {
     "data": {
      "image/png": "[encoded data removed]",
      "text/plain": [
       "<Figure size 640x480 with 1 Axes>"
      ]
     },
     "metadata": {},
     "output_type": "display_data"
    }
   ],
   "source": [
    "give = transac.groupby(transac['giver']).count()['item']\n",
    "ax = sns.kdeplot(give,bw_adjust=1,cumulative=False,clip= (1, 100.0))\n",
    "ax.set(xlabel='Trading Times')\n",
    "ax.get_figure().savefig('trade PDF.png',dpi=200)\n",
    "# plt.show()"
   ]
  }
 ],
 "metadata": {
  "kernelspec": {
   "display_name": "bzan620",
   "language": "python",
   "name": "bzan620"
  },
  "language_info": {
   "codemirror_mode": {
    "name": "ipython",
    "version": 3
   },
   "file_extension": ".py",
   "mimetype": "text/x-python",
   "name": "python",
   "nbconvert_exporter": "python",
   "pygments_lexer": "ipython3",
   "version": "3.10.8"
  }
 },
 "nbformat": 4,
 "nbformat_minor": 5
}
